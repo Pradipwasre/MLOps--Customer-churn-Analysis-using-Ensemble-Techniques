{
 "cells": [
  {
   "cell_type": "code",
   "execution_count": 1,
   "metadata": {},
   "outputs": [],
   "source": [
    "# Code "
   ]
  },
  {
   "cell_type": "code",
   "execution_count": 7,
   "metadata": {},
   "outputs": [],
   "source": [
    "nums = [0,1,2,2,3,0,4,2]\n",
    "val = 2"
   ]
  },
  {
   "cell_type": "code",
   "execution_count": 4,
   "metadata": {},
   "outputs": [
    {
     "data": {
      "text/plain": [
       "(7, [0, 1, 3, 0, 4, 0, 4, 2])"
      ]
     },
     "execution_count": 4,
     "metadata": {},
     "output_type": "execute_result"
    }
   ],
   "source": [
    "def remove_element(nums, val):\n",
    "    k = 0\n",
    "    for i in range(len(nums)):\n",
    "        if nums[i] != val:\n",
    "            nums[k] = nums[i]\n",
    "            k +=1\n",
    "    return k, nums\n",
    "\n",
    "remove_element(nums,val)"
   ]
  },
  {
   "cell_type": "code",
   "execution_count": 10,
   "metadata": {},
   "outputs": [],
   "source": [
    "emails = [\"a@leetcode.com\",\"b@leetcode.com\",\"c@leetcode.com\"]"
   ]
  },
  {
   "cell_type": "code",
   "execution_count": 13,
   "metadata": {},
   "outputs": [],
   "source": [
    "def numuniqueemails(emails):\n",
    "    unique_emails: set[str] = set()\n",
    "    for email in emails:\n",
    "        local_name, domain_name = email.split('@')\n",
    "        local_name = local_name.split('+')[0]\n",
    "        local_name = local_name.replace('.','')\n",
    "        email = local_name + '@' + domain_name\n",
    "        unique_emails.add(email)\n",
    "    return len(unique_emails)"
   ]
  },
  {
   "cell_type": "code",
   "execution_count": 14,
   "metadata": {},
   "outputs": [
    {
     "data": {
      "text/plain": [
       "3"
      ]
     },
     "execution_count": 14,
     "metadata": {},
     "output_type": "execute_result"
    }
   ],
   "source": [
    "numuniqueemails(emails)"
   ]
  },
  {
   "cell_type": "code",
   "execution_count": 16,
   "metadata": {},
   "outputs": [],
   "source": [
    "# Isomorphics String\n",
    "s = \"egg\"\n",
    "t = \"add\"\n",
    "\n",
    "def isomorphic(s,t):\n",
    "    mapST, mapTS = {},{}\n",
    "\n",
    "    for c1,c2 in zip(s,t):\n",
    "        if (c1 in mapST and mapST[c1] != c2) or (c2 in mapTS and mapTS[c2] != c1):\n",
    "            return False\n",
    "        mapST[c1] = c2\n",
    "        mapTS[c2] = c1\n",
    "    return True"
   ]
  },
  {
   "cell_type": "code",
   "execution_count": 17,
   "metadata": {},
   "outputs": [
    {
     "data": {
      "text/plain": [
       "True"
      ]
     },
     "execution_count": 17,
     "metadata": {},
     "output_type": "execute_result"
    }
   ],
   "source": [
    "isomorphic(s,t)"
   ]
  },
  {
   "cell_type": "code",
   "execution_count": 27,
   "metadata": {},
   "outputs": [],
   "source": [
    "# Valid Anagram\n",
    "s = \"anagram\"\n",
    "t = \"nagaram\""
   ]
  },
  {
   "cell_type": "code",
   "execution_count": 32,
   "metadata": {},
   "outputs": [],
   "source": [
    "def valid_anagram(s,t):\n",
    "    if len(s) != len(t):\n",
    "        return False\n",
    "    \n",
    "\n",
    "    counts, countt = {}, {}\n",
    "\n",
    "    for i in range(len(s)):\n",
    "        counts[s[i]] = 1 + counts.get(s[i], 0)\n",
    "        countt[t[i]] = 1 + countt.get(t[i], 0)\n",
    "\n",
    "    return counts == countt"
   ]
  },
  {
   "cell_type": "code",
   "execution_count": 33,
   "metadata": {},
   "outputs": [
    {
     "data": {
      "text/plain": [
       "True"
      ]
     },
     "execution_count": 33,
     "metadata": {},
     "output_type": "execute_result"
    }
   ],
   "source": [
    "valid_anagram(s,t)"
   ]
  },
  {
   "cell_type": "code",
   "execution_count": 34,
   "metadata": {},
   "outputs": [],
   "source": [
    "# Is subsequence\n",
    "s = \"abc\"\n",
    "t = \"ahbgdc\"\n",
    "\n",
    "def is_subsequence(s,t):\n",
    "    i , j = 0 , 0\n",
    "\n",
    "    while i < len(s) and j < len(t):\n",
    "        if s[i] == t[j]:\n",
    "            i += 1 \n",
    "            j += 1\n",
    "        j +=1 \n",
    "    return i == len(s)"
   ]
  },
  {
   "cell_type": "code",
   "execution_count": 35,
   "metadata": {},
   "outputs": [
    {
     "data": {
      "text/plain": [
       "True"
      ]
     },
     "execution_count": 35,
     "metadata": {},
     "output_type": "execute_result"
    }
   ],
   "source": [
    "is_subsequence(s,t)"
   ]
  },
  {
   "cell_type": "code",
   "execution_count": 36,
   "metadata": {},
   "outputs": [],
   "source": [
    "# Valid Palindrome\n",
    "s = \"A man, a plan, a canal: Panama\"\n"
   ]
  },
  {
   "cell_type": "code",
   "execution_count": 45,
   "metadata": {},
   "outputs": [],
   "source": [
    "class Solution:\n",
    "    def ispalindrom(self, s):\n",
    "        l , r = 0, len(s)-1\n",
    "\n",
    "        while l <r :\n",
    "            while l < r and not self.alphnum(s[l]):\n",
    "                l += 1\n",
    "\n",
    "            while r > 1 and not self.alphnum(s[r]):\n",
    "                r -= 1\n",
    "            if s[l].lower() != s[r].lower():\n",
    "                return False\n",
    "            l,r = l+1, r - 1\n",
    "\n",
    "\n",
    "\n",
    "    def alphanum(self, c):\n",
    "        return (ord('A') <= ord(C) <= ord('Z') or\n",
    "                ord('a') <= ord(C) <= ord('z') or\n",
    "                ord('0') <= ord(C) <= ord('9'))"
   ]
  },
  {
   "cell_type": "code",
   "execution_count": 46,
   "metadata": {},
   "outputs": [
    {
     "ename": "AttributeError",
     "evalue": "'Solution' object has no attribute 'alphnum'",
     "output_type": "error",
     "traceback": [
      "\u001b[1;31m---------------------------------------------------------------------------\u001b[0m",
      "\u001b[1;31mAttributeError\u001b[0m                            Traceback (most recent call last)",
      "Cell \u001b[1;32mIn[46], line 2\u001b[0m\n\u001b[0;32m      1\u001b[0m a \u001b[39m=\u001b[39m Solution()\n\u001b[1;32m----> 2\u001b[0m a\u001b[39m.\u001b[39;49mispalindrom(s)\n",
      "Cell \u001b[1;32mIn[45], line 6\u001b[0m, in \u001b[0;36mSolution.ispalindrom\u001b[1;34m(self, s)\u001b[0m\n\u001b[0;32m      3\u001b[0m l , r \u001b[39m=\u001b[39m \u001b[39m0\u001b[39m, \u001b[39mlen\u001b[39m(s)\u001b[39m-\u001b[39m\u001b[39m1\u001b[39m\n\u001b[0;32m      5\u001b[0m \u001b[39mwhile\u001b[39;00m l \u001b[39m<\u001b[39mr :\n\u001b[1;32m----> 6\u001b[0m     \u001b[39mwhile\u001b[39;00m l \u001b[39m<\u001b[39m r \u001b[39mand\u001b[39;00m \u001b[39mnot\u001b[39;00m \u001b[39mself\u001b[39;49m\u001b[39m.\u001b[39;49malphnum(s[l]):\n\u001b[0;32m      7\u001b[0m         l \u001b[39m+\u001b[39m\u001b[39m=\u001b[39m \u001b[39m1\u001b[39m\n\u001b[0;32m      9\u001b[0m     \u001b[39mwhile\u001b[39;00m r \u001b[39m>\u001b[39m \u001b[39m1\u001b[39m \u001b[39mand\u001b[39;00m \u001b[39mnot\u001b[39;00m \u001b[39mself\u001b[39m\u001b[39m.\u001b[39malphnum(s[r]):\n",
      "\u001b[1;31mAttributeError\u001b[0m: 'Solution' object has no attribute 'alphnum'"
     ]
    }
   ],
   "source": [
    "a = Solution()\n",
    "a.ispalindrom(s)"
   ]
  },
  {
   "cell_type": "code",
   "execution_count": null,
   "metadata": {},
   "outputs": [],
   "source": []
  }
 ],
 "metadata": {
  "kernelspec": {
   "display_name": "Python 3",
   "language": "python",
   "name": "python3"
  },
  "language_info": {
   "codemirror_mode": {
    "name": "ipython",
    "version": 3
   },
   "file_extension": ".py",
   "mimetype": "text/x-python",
   "name": "python",
   "nbconvert_exporter": "python",
   "pygments_lexer": "ipython3",
   "version": "3.11.4"
  },
  "orig_nbformat": 4
 },
 "nbformat": 4,
 "nbformat_minor": 2
}
